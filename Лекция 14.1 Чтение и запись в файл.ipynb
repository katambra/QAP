{
 "cells": [
  {
   "cell_type": "code",
   "execution_count": 1,
   "metadata": {},
   "outputs": [],
   "source": [
    "myFile = open('filename.txt')"
   ]
  },
  {
   "cell_type": "code",
   "execution_count": 2,
   "metadata": {},
   "outputs": [],
   "source": [
    "myFile = open('filename.txt', 'rt')"
   ]
  },
  {
   "cell_type": "code",
   "execution_count": 3,
   "metadata": {},
   "outputs": [],
   "source": [
    "myFile = open('filename.txt', 'rt', encoding=\"utf8\")"
   ]
  },
  {
   "cell_type": "code",
   "execution_count": 4,
   "metadata": {},
   "outputs": [
    {
     "name": "stdout",
     "output_type": "stream",
     "text": [
      "Lorem ipsum dolor sit amet, consectetur adipiscing elit. Suspendisse id interdum nibh. Donec ultrices pellentesque porta. Etiam vel suscipit arcu, eu vehicula leo. Vivamus venenatis felis at dignissim vehicula. Cras eleifend augue leo, finibus fringilla ipsum tempus eget. Sed condimentum a libero at maximus. Suspendisse ornare purus nec suscipit lobortis. Mauris vitae orci et massa commodo blandit. Suspendisse nec auctor turpis. Nullam sodales orci augue, et auctor diam luctus malesuada.\n",
      "\n",
      "Phasellus pharetra purus eget tempus ornare. Donec dictum nulla nec dapibus egestas. Nunc ac finibus dui. Nullam vel scelerisque nulla, in consequat nisi. Mauris nec purus aliquet, commodo erat et, cursus nisl. Nam non magna lacus. Duis sodales lacus sed efficitur euismod. Ut non vehicula nulla, sit amet scelerisque dui. Vestibulum ante ipsum primis in faucibus orci luctus et ultrices posuere cubilia curae; Morbi malesuada leo sit amet lorem imperdiet sodales. Donec quis turpis est. Nullam sed lectus ullamcorper, aliquet urna sit amet, venenatis quam. Vestibulum interdum a risus vel volutpat. Vivamus mauris ligula, pharetra non libero tempor, ornare facilisis dui. Duis tincidunt tortor tincidunt dui vehicula, id faucibus purus eleifend.\n",
      "\n",
      "Suspendisse tincidunt erat id turpis malesuada, ut lobortis felis feugiat. Donec rhoncus metus ut nulla faucibus feugiat. Vestibulum ante ipsum primis in faucibus orci luctus et ultrices posuere cubilia curae; Sed in tristique felis. Aenean tellus ex, congue iaculis neque quis, ultricies dictum massa. Curabitur vulputate efficitur libero, sed ullamcorper sapien malesuada ut. Duis venenatis, ante at vestibulum rhoncus, neque justo convallis ipsum, non elementum sem mauris vel nunc. In urna est, vulputate vitae libero ut, egestas blandit nisl. Praesent scelerisque vulputate libero, vel imperdiet risus commodo ut. In hac habitasse platea dictumst. Phasellus pharetra rutrum metus quis scelerisque. Pellentesque ex arcu, vestibulum quis ultricies ut, luctus varius felis. Vivamus sed aliquam sem, a dictum mauris. Phasellus non leo vel tortor pulvinar ornare ultrices sed enim.\n"
     ]
    }
   ],
   "source": [
    "myFile = open('filename.txt')\n",
    "print(myFile.read())"
   ]
  },
  {
   "cell_type": "code",
   "execution_count": 5,
   "metadata": {},
   "outputs": [
    {
     "name": "stdout",
     "output_type": "stream",
     "text": [
      "['Lorem ipsum dolor sit amet, consectetur adipiscing elit. Suspendisse id interdum nibh. Donec ultrices pellentesque porta. Etiam vel suscipit arcu, eu vehicula leo. Vivamus venenatis felis at dignissim vehicula. Cras eleifend augue leo, finibus fringilla ipsum tempus eget. Sed condimentum a libero at maximus. Suspendisse ornare purus nec suscipit lobortis. Mauris vitae orci et massa commodo blandit. Suspendisse nec auctor turpis. Nullam sodales orci augue, et auctor diam luctus malesuada.\\n', '\\n', 'Phasellus pharetra purus eget tempus ornare. Donec dictum nulla nec dapibus egestas. Nunc ac finibus dui. Nullam vel scelerisque nulla, in consequat nisi. Mauris nec purus aliquet, commodo erat et, cursus nisl. Nam non magna lacus. Duis sodales lacus sed efficitur euismod. Ut non vehicula nulla, sit amet scelerisque dui. Vestibulum ante ipsum primis in faucibus orci luctus et ultrices posuere cubilia curae; Morbi malesuada leo sit amet lorem imperdiet sodales. Donec quis turpis est. Nullam sed lectus ullamcorper, aliquet urna sit amet, venenatis quam. Vestibulum interdum a risus vel volutpat. Vivamus mauris ligula, pharetra non libero tempor, ornare facilisis dui. Duis tincidunt tortor tincidunt dui vehicula, id faucibus purus eleifend.\\n', '\\n', 'Suspendisse tincidunt erat id turpis malesuada, ut lobortis felis feugiat. Donec rhoncus metus ut nulla faucibus feugiat. Vestibulum ante ipsum primis in faucibus orci luctus et ultrices posuere cubilia curae; Sed in tristique felis. Aenean tellus ex, congue iaculis neque quis, ultricies dictum massa. Curabitur vulputate efficitur libero, sed ullamcorper sapien malesuada ut. Duis venenatis, ante at vestibulum rhoncus, neque justo convallis ipsum, non elementum sem mauris vel nunc. In urna est, vulputate vitae libero ut, egestas blandit nisl. Praesent scelerisque vulputate libero, vel imperdiet risus commodo ut. In hac habitasse platea dictumst. Phasellus pharetra rutrum metus quis scelerisque. Pellentesque ex arcu, vestibulum quis ultricies ut, luctus varius felis. Vivamus sed aliquam sem, a dictum mauris. Phasellus non leo vel tortor pulvinar ornare ultrices sed enim.']\n"
     ]
    }
   ],
   "source": [
    "myFile = open('filename.txt')\n",
    "print(myFile.readlines())"
   ]
  },
  {
   "cell_type": "code",
   "execution_count": 6,
   "metadata": {},
   "outputs": [
    {
     "name": "stdout",
     "output_type": "stream",
     "text": [
      "Lorem ipsum dolor sit amet, consectetur adipiscing elit. Suspendisse id interdum nibh. Donec ultrices pellentesque porta. Etiam vel suscipit arcu, eu vehicula leo. Vivamus venenatis felis at dignissim vehicula. Cras eleifend augue leo, finibus fringilla ipsum tempus eget. Sed condimentum a libero at maximus. Suspendisse ornare purus nec suscipit lobortis. Mauris vitae orci et massa commodo blandit. Suspendisse nec auctor turpis. Nullam sodales orci augue, et auctor diam luctus malesuada.\n",
      "\n",
      "\n",
      "\n",
      "Phasellus pharetra purus eget tempus ornare. Donec dictum nulla nec dapibus egestas. Nunc ac finibus dui. Nullam vel scelerisque nulla, in consequat nisi. Mauris nec purus aliquet, commodo erat et, cursus nisl. Nam non magna lacus. Duis sodales lacus sed efficitur euismod. Ut non vehicula nulla, sit amet scelerisque dui. Vestibulum ante ipsum primis in faucibus orci luctus et ultrices posuere cubilia curae; Morbi malesuada leo sit amet lorem imperdiet sodales. Donec quis turpis est. Nullam sed lectus ullamcorper, aliquet urna sit amet, venenatis quam. Vestibulum interdum a risus vel volutpat. Vivamus mauris ligula, pharetra non libero tempor, ornare facilisis dui. Duis tincidunt tortor tincidunt dui vehicula, id faucibus purus eleifend.\n",
      "\n",
      "\n",
      "\n",
      "Suspendisse tincidunt erat id turpis malesuada, ut lobortis felis feugiat. Donec rhoncus metus ut nulla faucibus feugiat. Vestibulum ante ipsum primis in faucibus orci luctus et ultrices posuere cubilia curae; Sed in tristique felis. Aenean tellus ex, congue iaculis neque quis, ultricies dictum massa. Curabitur vulputate efficitur libero, sed ullamcorper sapien malesuada ut. Duis venenatis, ante at vestibulum rhoncus, neque justo convallis ipsum, non elementum sem mauris vel nunc. In urna est, vulputate vitae libero ut, egestas blandit nisl. Praesent scelerisque vulputate libero, vel imperdiet risus commodo ut. In hac habitasse platea dictumst. Phasellus pharetra rutrum metus quis scelerisque. Pellentesque ex arcu, vestibulum quis ultricies ut, luctus varius felis. Vivamus sed aliquam sem, a dictum mauris. Phasellus non leo vel tortor pulvinar ornare ultrices sed enim.\n"
     ]
    }
   ],
   "source": [
    "myFile = open('filename.txt')\n",
    "for line in myFile:\n",
    "    print(line)"
   ]
  },
  {
   "cell_type": "code",
   "execution_count": 7,
   "metadata": {},
   "outputs": [],
   "source": [
    "myFile = open('namefile.txt', 'w')\n",
    "myFile.write('tttt')\n",
    "print('zzzz', file=myFile)"
   ]
  },
  {
   "cell_type": "code",
   "execution_count": 8,
   "metadata": {},
   "outputs": [
    {
     "name": "stdout",
     "output_type": "stream",
     "text": [
      "Lorem ipsum dolor sit amet, consectetur adipiscing elit. Suspendisse id interdum nibh. Donec ultrices pellentesque porta. Etiam vel suscipit arcu, eu vehicula leo. Vivamus venenatis felis at dignissim vehicula. Cras eleifend augue leo, finibus fringilla ipsum tempus eget. Sed condimentum a libero at maximus. Suspendisse ornare purus nec suscipit lobortis. Mauris vitae orci et massa commodo blandit. Suspendisse nec auctor turpis. Nullam sodales orci augue, et auctor diam luctus malesuada.\n",
      "\n",
      "\n",
      "\n",
      "Phasellus pharetra purus eget tempus ornare. Donec dictum nulla nec dapibus egestas. Nunc ac finibus dui. Nullam vel scelerisque nulla, in consequat nisi. Mauris nec purus aliquet, commodo erat et, cursus nisl. Nam non magna lacus. Duis sodales lacus sed efficitur euismod. Ut non vehicula nulla, sit amet scelerisque dui. Vestibulum ante ipsum primis in faucibus orci luctus et ultrices posuere cubilia curae; Morbi malesuada leo sit amet lorem imperdiet sodales. Donec quis turpis est. Nullam sed lectus ullamcorper, aliquet urna sit amet, venenatis quam. Vestibulum interdum a risus vel volutpat. Vivamus mauris ligula, pharetra non libero tempor, ornare facilisis dui. Duis tincidunt tortor tincidunt dui vehicula, id faucibus purus eleifend.\n",
      "\n",
      "\n",
      "\n",
      "Suspendisse tincidunt erat id turpis malesuada, ut lobortis felis feugiat. Donec rhoncus metus ut nulla faucibus feugiat. Vestibulum ante ipsum primis in faucibus orci luctus et ultrices posuere cubilia curae; Sed in tristique felis. Aenean tellus ex, congue iaculis neque quis, ultricies dictum massa. Curabitur vulputate efficitur libero, sed ullamcorper sapien malesuada ut. Duis venenatis, ante at vestibulum rhoncus, neque justo convallis ipsum, non elementum sem mauris vel nunc. In urna est, vulputate vitae libero ut, egestas blandit nisl. Praesent scelerisque vulputate libero, vel imperdiet risus commodo ut. In hac habitasse platea dictumst. Phasellus pharetra rutrum metus quis scelerisque. Pellentesque ex arcu, vestibulum quis ultricies ut, luctus varius felis. Vivamus sed aliquam sem, a dictum mauris. Phasellus non leo vel tortor pulvinar ornare ultrices sed enim.\n"
     ]
    }
   ],
   "source": [
    "with open(\"filename.txt\") as myFile:\n",
    "    for line in myFile:\n",
    "        print(line)"
   ]
  },
  {
   "cell_type": "code",
   "execution_count": 9,
   "metadata": {},
   "outputs": [
    {
     "name": "stdout",
     "output_type": "stream",
     "text": [
      "Введите число, на которое нужно сдвинуть текст: 5\n"
     ]
    }
   ],
   "source": [
    "alpha = 'абвгдеёжзийклмнопрстуфхцчшщъыьэюя'\n",
    "alphaUp = 'АБВГДЕЁЖЗИЙКЛМНОПРСТУФХЦЧШЩЪЫЬЭЮЯ'\n",
    "number = int(input('Введите число, на которое нужно сдвинуть текст: '))\n",
    "\n",
    "summary = ''\n",
    "\n",
    "def changeChar(char):\n",
    "    if char in alpha:\n",
    "        return alpha[(alpha.index(char) + number) % len(alpha)]\n",
    "    elif char in alphaUp:\n",
    "        return alphaUp[(alphaUp.index(char) + number) % len(alphaUp)]\n",
    "    else:\n",
    "        return char\n",
    "    \n",
    "with open(\"filename2.txt\", encoding=\"utf8\") as myFile:\n",
    "    for line in myFile:\n",
    "        for char in line:\n",
    "            summary += changeChar(char)\n",
    "\n",
    "        \n",
    "with open(\"output.txt\", 'w', encoding=\"utf8\") as myFile:\n",
    "    myFile.write(summary)"
   ]
  }
 ],
 "metadata": {
  "kernelspec": {
   "display_name": "Python 3",
   "language": "python",
   "name": "python3"
  },
  "language_info": {
   "codemirror_mode": {
    "name": "ipython",
    "version": 3
   },
   "file_extension": ".py",
   "mimetype": "text/x-python",
   "name": "python",
   "nbconvert_exporter": "python",
   "pygments_lexer": "ipython3",
   "version": "3.8.3"
  }
 },
 "nbformat": 4,
 "nbformat_minor": 4
}
