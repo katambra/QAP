{
 "cells": [
  {
   "cell_type": "code",
   "execution_count": 30,
   "metadata": {},
   "outputs": [
    {
     "name": "stdout",
     "output_type": "stream",
     "text": [
      "Введите число: 40\n",
      "Число Фибоначчи, которое соответствует номеру 40, это: 165580141\n"
     ]
    }
   ],
   "source": [
    "def fibonacci(n):\n",
    "    if n < 2:\n",
    "        return 1\n",
    "    return fibonacci(n - 1) + fibonacci(n - 2)\n",
    " \n",
    "number = int(input('Введите число: '))\n",
    "\n",
    "print(f'Число Фибоначчи, которое соответствует номеру {number}, это: {fibonacci(number)}')"
   ]
  },
  {
   "cell_type": "code",
   "execution_count": 15,
   "metadata": {},
   "outputs": [
    {
     "name": "stdout",
     "output_type": "stream",
     "text": [
      "125\n",
      "125\n"
     ]
    }
   ],
   "source": [
    "def funk(x, y):\n",
    "    return x**2 + y**2\n",
    "\n",
    "x = 10\n",
    "y = 5\n",
    "\n",
    "print(funk(x, y))\n",
    "\n",
    "print((lambda x, y: x**2 + y**2)(x, y))"
   ]
  },
  {
   "cell_type": "code",
   "execution_count": 27,
   "metadata": {},
   "outputs": [
    {
     "name": "stdout",
     "output_type": "stream",
     "text": [
      "Введите число: 20\n",
      "Число Фибоначчи, которое соответствует номеру 20, это: 6765\n"
     ]
    }
   ],
   "source": [
    "fibonacci = lambda n: fibonacci(n - 1) + fibonacci(n - 2) if n > 2 else 1\n",
    "\n",
    "number = int(input('Введите число: '))\n",
    "\n",
    "print(f'Число Фибоначчи, которое соответствует номеру {number}, это: {fibonacci(number)}')"
   ]
  },
  {
   "cell_type": "code",
   "execution_count": 43,
   "metadata": {},
   "outputs": [
    {
     "name": "stdout",
     "output_type": "stream",
     "text": [
      "['белый', 'Голубой', 'Красный', 'синий', 'черный']\n"
     ]
    }
   ],
   "source": [
    "colors = [\"Красный\", \"синий\", \"черный\", \"белый\", \"Голубой\"]\n",
    "\n",
    "print(sorted(colors))\n",
    "\n",
    "# ---\n",
    "# ---\n",
    "\n",
    "def lwr(s):\n",
    "    return s.lower()\n",
    "\n",
    "print(sorted(colors, key=lwr))\n",
    "\n",
    "# ---\n",
    "# ---\n",
    "\n",
    "print(sorted(colors, key=lambda s: s.lower()))"
   ]
  },
  {
   "cell_type": "code",
   "execution_count": null,
   "metadata": {},
   "outputs": [],
   "source": []
  },
  {
   "cell_type": "code",
   "execution_count": 26,
   "metadata": {},
   "outputs": [
    {
     "name": "stdout",
     "output_type": "stream",
     "text": [
      "1\n"
     ]
    }
   ],
   "source": []
  }
 ],
 "metadata": {
  "kernelspec": {
   "display_name": "Python 3",
   "language": "python",
   "name": "python3"
  },
  "language_info": {
   "codemirror_mode": {
    "name": "ipython",
    "version": 3
   },
   "file_extension": ".py",
   "mimetype": "text/x-python",
   "name": "python",
   "nbconvert_exporter": "python",
   "pygments_lexer": "ipython3",
   "version": "3.8.3rc1"
  }
 },
 "nbformat": 4,
 "nbformat_minor": 4
}
