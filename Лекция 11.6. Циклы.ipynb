{
 "cells": [
  {
   "cell_type": "code",
   "execution_count": 1,
   "metadata": {},
   "outputs": [
    {
     "name": "stdout",
     "output_type": "stream",
     "text": [
      "1\n",
      "2\n",
      "3\n",
      "4\n"
     ]
    }
   ],
   "source": [
    "a = 1\n",
    "while a < 5:\n",
    "    print (a)\n",
    "    a += 1"
   ]
  },
  {
   "cell_type": "code",
   "execution_count": 2,
   "metadata": {},
   "outputs": [
    {
     "name": "stdout",
     "output_type": "stream",
     "text": [
      "b = 0\n",
      "----\n",
      "1\n",
      "----\n",
      "2\n",
      "3\n",
      "Конец\n"
     ]
    }
   ],
   "source": [
    "a = 1\n",
    "b = 0\n",
    "while True:\n",
    "    if b == 0:\n",
    "        print ('b = 0')\n",
    "    else:\n",
    "        print (a)\n",
    "        a += 1\n",
    "    b += 1\n",
    "    if b == 3:\n",
    "        continue\n",
    "    if b == 4:\n",
    "        break\n",
    "    print ('----')\n",
    "print ('Конец')"
   ]
  },
  {
   "cell_type": "code",
   "execution_count": 3,
   "metadata": {},
   "outputs": [
    {
     "name": "stdout",
     "output_type": "stream",
     "text": [
      "1\n",
      "2\n",
      "3\n",
      "Конец\n"
     ]
    }
   ],
   "source": [
    "i = 0\n",
    "while i < 3:\n",
    "    i += 1\n",
    "    print (i)\n",
    "else:\n",
    "    print ('Конец')"
   ]
  },
  {
   "cell_type": "code",
   "execution_count": 4,
   "metadata": {},
   "outputs": [
    {
     "name": "stdout",
     "output_type": "stream",
     "text": [
      "1\n",
      "2\n",
      "3\n"
     ]
    }
   ],
   "source": [
    "i = 0\n",
    "while True:\n",
    "    i += 1\n",
    "    print (i)\n",
    "    if i == 3: \n",
    "        break\n",
    "else:\n",
    "    print ('Конец')"
   ]
  },
  {
   "cell_type": "code",
   "execution_count": 5,
   "metadata": {},
   "outputs": [
    {
     "name": "stdout",
     "output_type": "stream",
     "text": [
      "10\n",
      "Число не простое\n"
     ]
    }
   ],
   "source": [
    "# перебор всех вариантов\n",
    "number = int(input())\n",
    "\n",
    "divisor = 2\n",
    "\n",
    "while number % divisor != 0:\n",
    "    divisor += 1\n",
    "\n",
    "if divisor == number:\n",
    "    print ('Число простое')\n",
    "else:\n",
    "    print ('Число не простое')"
   ]
  },
  {
   "cell_type": "code",
   "execution_count": 6,
   "metadata": {},
   "outputs": [
    {
     "name": "stdout",
     "output_type": "stream",
     "text": [
      "12\n",
      "Число не простое\n"
     ]
    }
   ],
   "source": [
    "# перебор всех нечетных вариантов\n",
    "number = int(input())\n",
    "\n",
    "if number % 2 == 0:\n",
    "    divisor = 2\n",
    "else:\n",
    "    divisor = 3\n",
    "\n",
    "    while number % divisor != 0:\n",
    "        divisor += 2\n",
    "\n",
    "if divisor == number:\n",
    "    print ('Число простое')\n",
    "else:\n",
    "    print ('Число не простое')"
   ]
  },
  {
   "cell_type": "code",
   "execution_count": 7,
   "metadata": {},
   "outputs": [
    {
     "name": "stdout",
     "output_type": "stream",
     "text": [
      "13\n",
      "Число простое\n"
     ]
    }
   ],
   "source": [
    "# перебор всех нечетных вариантов, с условием, что число меньше квадрата.\n",
    "number = int(input())\n",
    "\n",
    "\n",
    "if number % 2 == 0:\n",
    "    divisor = 2\n",
    "else:\n",
    "    divisor = 3\n",
    "\n",
    "    while divisor ** 2 <= number and number % divisor != 0:\n",
    "        divisor += 1\n",
    "\n",
    "if divisor ** 2 >= number:\n",
    "    print ('Число простое')\n",
    "else:\n",
    "    print ('Число не простое')"
   ]
  },
  {
   "cell_type": "code",
   "execution_count": null,
   "metadata": {},
   "outputs": [],
   "source": []
  }
 ],
 "metadata": {
  "kernelspec": {
   "display_name": "Python 3",
   "language": "python",
   "name": "python3"
  },
  "language_info": {
   "codemirror_mode": {
    "name": "ipython",
    "version": 3
   },
   "file_extension": ".py",
   "mimetype": "text/x-python",
   "name": "python",
   "nbconvert_exporter": "python",
   "pygments_lexer": "ipython3",
   "version": "3.8.3rc1"
  }
 },
 "nbformat": 4,
 "nbformat_minor": 4
}
