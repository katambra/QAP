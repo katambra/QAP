{
 "cells": [
  {
   "cell_type": "code",
   "execution_count": 1,
   "metadata": {},
   "outputs": [
    {
     "name": "stdout",
     "output_type": "stream",
     "text": [
      "..\\test\\filename.txt\n"
     ]
    }
   ],
   "source": [
    "import os\n",
    "\n",
    "print(os.path.join('..', 'test', 'filename.txt'))"
   ]
  },
  {
   "cell_type": "code",
   "execution_count": 2,
   "metadata": {},
   "outputs": [
    {
     "name": "stdout",
     "output_type": "stream",
     "text": [
      "-1  -1  -1  -1  -1  -1  -1  -1  -1  -1  -1  -1  \n",
      "-1   3   4   5   6   7   8   9  10  11  12  -1  \n",
      " 1   2  -1  -1  -1  -1   9  -1  11  -1  -1  -1  \n",
      "-1   3  -1  -1  10  11  10  11  12  -1  -1  -1  \n",
      "-1   4  -1  -1   9  -1  11  -1  -1  16  17  -1  \n",
      "-1   5   6   7   8  -1  12  13  14  15  16  -1  \n",
      "-1  -1   7  -1  -1  -1  -1  -1  -1  -1  17  -1  \n",
      "32  31  -1  29  -1  -1  26  27  -1  19  18  -1  \n",
      "-1  30  29  28  27  26  25  -1  21  20  -1  -1  \n",
      "-1  -1  -1  29  -1  25  24  23  22  -1  -1  -1  \n",
      "-1  -1  -1  -1  -1  -1  -1  -1  -1  -1  -1  -1  \n",
      "['Вправо', 'Вверх', 'Вправо', 'Вправо', 'Вправо', 'Вправо', 'Вправо', 'Вниз', 'Вниз', 'Вниз', 'Вниз', 'Вправо', 'Вправо', 'Вправо', 'Вправо', 'Вниз', 'Вниз', 'Влево', 'Вниз', 'Влево', 'Вниз', 'Влево', 'Влево', 'Влево', 'Вверх', 'Влево', 'Влево', 'Влево', 'Влево', 'Вверх', 'Влево']\n"
     ]
    }
   ],
   "source": [
    "def found(pathArr, finPoint):\n",
    "    weight = 1\n",
    "    for i in range(len(pathArr) * len(pathArr[0])):\n",
    "        for y in range(len(pathArr)):          \n",
    "            for x in range(len(pathArr[y])):                   \n",
    "                if pathArr[y][x] == weight:            \n",
    "                    #Вниз\n",
    "                    if y > 0 and pathArr[y - 1][x] == 0:\n",
    "                        pathArr[y - 1][x] = weight + 1 \n",
    "                           \n",
    "                    #Вверх\n",
    "                    if y < (len(pathArr) - 1) and pathArr[y + 1][x] == 0:\n",
    "                        pathArr[y + 1][x] = weight + 1\n",
    "                        \n",
    "                    #Вправо\n",
    "                    if x > 0 and pathArr[y][x - 1] == 0:\n",
    "                        pathArr[y][x - 1] = weight + 1\n",
    "                    \n",
    "                    #Влево\n",
    "                    if x < (len(pathArr[y]) - 1) and pathArr[y][x + 1] == 0:\n",
    "                        pathArr[y][x + 1] = weight + 1\n",
    "                           \n",
    "                    #Конечная точка        \n",
    "                    if (abs(y - finPoint[0]) + abs(x - finPoint[1])) == 1:\n",
    "                        pathArr[finPoint[0]][finPoint[1]] = weight + 1\n",
    "                        return True        \n",
    "        weight += 1   \n",
    "    return False      \n",
    " \n",
    "def printPath(pathArr, finPoint):      \n",
    "    y = finPoint[0]\n",
    "    x = finPoint[1]\n",
    "    weight = pathArr[y][x]\n",
    "    result = list(range(weight))\n",
    "    while (weight):\n",
    "        weight -= 1\n",
    "        if y > 0 and pathArr[y - 1][x] == weight:\n",
    "            result[weight] = 'Вниз' \n",
    "            y -= 1\n",
    "        elif y < (len(pathArr) - 1) and pathArr[y + 1][x] == weight:\n",
    "            result[weight] = 'Вверх' \n",
    "            y += 1\n",
    "        elif x > 0 and pathArr[y][x - 1] == weight:\n",
    "            result[weight] = 'Вправо' \n",
    "            x -= 1\n",
    "        elif x < (len(pathArr[y]) - 1) and pathArr[y][x + 1] == weight:\n",
    "            result[weight] = 'Влево' \n",
    "            x += 1\n",
    "            \n",
    "    return result[1:]\n",
    "            \n",
    "\n",
    "labirint = []\n",
    "with open(\"labirint.txt\") as myFile:\n",
    "    for line in myFile:\n",
    "        labirint.append(line.replace('\\n', '').split(' '))   \n",
    "            \n",
    "ii = 0\n",
    "for i in labirint:\n",
    "    jj = 0\n",
    "    for j in i:\n",
    "        if j == 'A':\n",
    "            labirint[ii][jj] = 1\n",
    "            pozIn = (ii, jj)\n",
    "        elif j == 'B':\n",
    "            labirint[ii][jj] = 0\n",
    "            pozOut = (ii, jj)            \n",
    "        elif j == '1':\n",
    "            labirint[ii][jj] = -1\n",
    "        else:\n",
    "            labirint[ii][jj] = 0\n",
    "        jj += 1\n",
    "    ii += 1\n",
    "    \n",
    "if not found(labirint, pozOut):\n",
    "    print(\"Путь не найден!\")\n",
    "else:\n",
    "    result = printPath(labirint, pozOut)\n",
    "\n",
    "    for i in labirint:\n",
    "        for line in i:\n",
    "            print(\"{:^3}\".format(line), end = \" \")\n",
    "        print()\n",
    "    print(result)"
   ]
  }
 ],
 "metadata": {
  "kernelspec": {
   "display_name": "Python 3",
   "language": "python",
   "name": "python3"
  },
  "language_info": {
   "codemirror_mode": {
    "name": "ipython",
    "version": 3
   },
   "file_extension": ".py",
   "mimetype": "text/x-python",
   "name": "python",
   "nbconvert_exporter": "python",
   "pygments_lexer": "ipython3",
   "version": "3.8.3"
  }
 },
 "nbformat": 4,
 "nbformat_minor": 4
}
